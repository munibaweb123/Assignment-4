{
 "cells": [
  {
   "cell_type": "markdown",
   "metadata": {},
   "source": [
    "# **Problem: High Low**\n",
    "We want you to gain more experience working with control flow and Booleans in Python. To do this, we are going to have you develop a game! The game is called High-Low and the way it's played goes as follows:\n",
    "\n",
    "Two numbers are generated from 1 to 100 (inclusive on both ends): one for you and one for a computer, who will be your opponent. You can see your number, but not the computer's!\n",
    "\n",
    "You make a guess, saying your number is either higher than or lower than the computer's number\n",
    "\n",
    "If your guess matches the truth (ex. you guess your number is higher, and then your number is actually higher than the computer's), you get a point!\n",
    "\n",
    "These steps make up one round of the game. The game is over after all rounds have been played."
   ]
  },
  {
   "cell_type": "code",
   "execution_count": 6,
   "metadata": {},
   "outputs": [
    {
     "name": "stdout",
     "output_type": "stream",
     "text": [
      "\n",
      "Welcome to the High-Low Game!\n",
      "--------------------------------\n",
      "\n",
      "Round 1\n",
      "your guess is 45\n",
      "Do you think your number is higher or lower than the computer's?: lower\n",
      "Round 2\n",
      "your guess is 66\n",
      "Do you think your number is higher or lower than the computer's?: lower\n",
      "Round 3\n",
      "your guess is 78\n",
      "Do you think your number is higher or lower than the computer's?: higher\n",
      "Round 4\n",
      "your guess is 70\n",
      "Do you think your number is higher or lower than the computer's?: lower\n",
      "Round 5\n",
      "your guess is 74\n",
      "Do you think your number is higher or lower than the computer's?: higher\n",
      "Round 6\n",
      "your guess is 77\n",
      "Do you think your number is higher or lower than the computer's?: higher\n",
      "Round 7\n",
      "your guess is 73\n",
      "Do you think your number is higher or lower than the computer's?: higher\n",
      "Round 8\n",
      "your guess is 72\n",
      "You were right! The computer's number was 72\n",
      "\n",
      "            Your score is now 1\n",
      "\n",
      "            Better luck next time!\n",
      "            \n"
     ]
    }
   ],
   "source": [
    "import random\n",
    "print(\"\"\"\n",
    "Welcome to the High-Low Game!\n",
    "--------------------------------\n",
    "\"\"\")\n",
    "guess_counter =0\n",
    "chances = 10\n",
    "computer = random.randint(1,100)\n",
    "while guess_counter<chances:\n",
    "    guess_counter+=1\n",
    "    print(f'Round {guess_counter}')\n",
    "    user_guess = int(input('enter a number to guess'))\n",
    "    \n",
    "    print('your guess is',user_guess)\n",
    "    if user_guess > computer:\n",
    "        print('Do you think your number is higher or lower than the computer\\'s?: higher')\n",
    "    elif user_guess < computer:\n",
    "        print('Do you think your number is higher or lower than the computer\\'s?: lower')\n",
    "    else:\n",
    "        print(f'You were right! The computer\\'s number was {computer}')\n",
    "        if(guess_counter==chances):\n",
    "            print(f'''\n",
    "            Your score is now 5\n",
    "            Wow! You played perfectly!\n",
    "            ''')\n",
    "        elif(guess_counter==chances/2):\n",
    "            print('''\n",
    "            Your score is now 2\n",
    "\n",
    "            Good job, you played really well!\n",
    "            ''')\n",
    "        else:\n",
    "            print('''\n",
    "            Your score is now 1\n",
    "\n",
    "            Better luck next time!\n",
    "            ''')\n",
    "        \n",
    "        break"
   ]
  }
 ],
 "metadata": {
  "kernelspec": {
   "display_name": "Python 3",
   "language": "python",
   "name": "python3"
  },
  "language_info": {
   "codemirror_mode": {
    "name": "ipython",
    "version": 3
   },
   "file_extension": ".py",
   "mimetype": "text/x-python",
   "name": "python",
   "nbconvert_exporter": "python",
   "pygments_lexer": "ipython3",
   "version": "3.13.2"
  }
 },
 "nbformat": 4,
 "nbformat_minor": 2
}
