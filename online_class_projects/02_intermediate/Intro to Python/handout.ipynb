{
 "cells": [
  {
   "cell_type": "markdown",
   "metadata": {},
   "source": [
    "# **Problem: Planetary Weight Calculator**\n",
    "Milestone #1: Mars Weight\n",
    "A few years ago, NASA made history with the first controlled flight on another planet. Its latest Mars Rover, Perseverance, has onboard a 50cm high helicopter called Ingenuity. Ingenuity made its third flight, during which it flew faster and further than it had on any of its test flights on Earth. Interestingly, Ingenuity uses Python for some of its flight modeling software!\n",
    "\n",
    "Ingenuity on the surface of Mars (source: NASA)\n",
    "\n",
    "When programming Ingenuity, one of the things that NASA engineers need to account for is the fact that due to the weaker gravity on Mars, an Earthling's weight on Mars is 37.8% of their weight on Earth. Write a Python program that prompts an Earthling to enter their weight on Earth and prints their calculated weight on Mars.\n",
    "\n",
    "The output should be rounded to two decimal places when necessary. Python has a round function which can help you with this. You pass in the value to be rounded and the number of decimal places to use. In the example below, the number 3.1415926 is rounded to 2 decimal places which is 3.14."
   ]
  },
  {
   "cell_type": "code",
   "execution_count": null,
   "metadata": {},
   "outputs": [],
   "source": [
    "x = 3.1415926\n",
    "rounded_x = round(x, 2) # rounds x to 2 decimal places \n",
    "print(rounded_x) \n",
    "\n",
    "# This would print out out 3.14\n",
    "\n",
    "x = 2.71828\n",
    "rounded_x = round(x, 4)\n",
    "print(rounded_x)\n",
    "\n",
    "# This would print out 2.7183\n",
    "\n",
    "x = 3\n",
    "rounded_x = round(x, 4)\n",
    "print(rounded_x) \n",
    "\n",
    "# This would print 3\n",
    "# Note that the round function does not add on decimal places that are not there already \n",
    "\n",
    "Sample Run\n",
    "\n",
    "$ python marsweight.py\n",
    "\n",
    "Enter a weight on Earth: 120\n",
    "\n",
    "The equivalent on Mars: 45.36 \n",
    "\n",
    "Sample Run\n",
    "\n",
    "$ python marsweight.py\n",
    "\n",
    "Enter a weight on Earth: 186\n",
    "\n",
    "The equivalent on Mars: 70.31\n"
   ]
  },
  {
   "cell_type": "markdown",
   "metadata": {},
   "source": [
    "## **Milestone #2: Adding in All Planets**\n",
    "Mars is not the only planet in our solar system with its own unique gravity. In fact, each planet has a different gravitational constant, which affects how much an object would weigh on that planet. Below is a list of the constants for each planet compared to Earth's gravity:\n",
    "\n",
    "Mercury: 37.6%\n",
    "\n",
    "Venus: 88.9%\n",
    "\n",
    "Mars: 37.8%\n",
    "\n",
    "Jupiter: 236.0%\n",
    "\n",
    "Saturn: 108.1%\n",
    "\n",
    "Uranus: 81.5%\n",
    "\n",
    "Neptune: 114.0%\n",
    "\n",
    "Write a Python program that prompts an Earthling to enter their weight on Earth and then to enter the name of a planet in our solar system. The program should print the equivalent weight on that planet rounded to 2 decimal places if necessary.\n",
    "\n",
    "You can assume that the user will always type in a planet with the first letter capitalized and you do not need to worry about the case where they type in something other than one of the above planets."
   ]
  },
  {
   "cell_type": "markdown",
   "metadata": {},
   "source": [
    "Sample Run\n",
    "\n",
    "$ python planetaryweight.py\n",
    "\n",
    "Enter a weight on Earth: 120\n",
    "\n",
    "Enter a planet: Mars\n",
    "\n",
    "The equivalent weight on Mars: 45.36\n",
    "\n",
    "Sample Run\n",
    "\n",
    "$ python planetaryweight.py\n",
    "\n",
    "Enter a weight on Earth: 150\n",
    "\n",
    "Enter a planet: Jupiter\n",
    "\n",
    "The equivalent weight on Jupiter: 354.0"
   ]
  },
  {
   "cell_type": "markdown",
   "metadata": {},
   "source": [
    "Useful Syntax\n",
    "\n",
    "Python has an if statement! This if statement passes if the value of x is the same as the value of y. x and y can be literal numbers, strings, variables, or constants.\n",
    "\n",
    "x = 42 y = 42\n",
    "\n",
    "if x == y: print(\"x and y are equal!\")"
   ]
  },
  {
   "cell_type": "code",
   "execution_count": 2,
   "metadata": {},
   "outputs": [
    {
     "name": "stdout",
     "output_type": "stream",
     "text": [
      "The equivalent weight on Mars: 24.95\n"
     ]
    }
   ],
   "source": [
    "\"\"\"\n",
    "Prompts the user for a weight on Earth\n",
    "and a planet (in separate inputs). Then \n",
    "prints the equivalent weight on that planet.\n",
    "\n",
    "Note that the user should type in a planet with \n",
    "the first letter as uppercase, and you do not need\n",
    "to handle the case where a user types in something \n",
    "other than one of the planets (that is not Earth). \n",
    "\"\"\"\n",
    "\n",
    "\n",
    "# Mars Weight\n",
    "\n",
    "\"\"\"\n",
    "Prompts the user for a weight on Earth\n",
    "and prints the equivalent weight on Mars.\n",
    "\"\"\"\n",
    "\n",
    "MARS_MULTIPLE = 0.378\n",
    "def main():\n",
    "    # Fill this function out!\n",
    "    earth_weight_str = input('Enter a weight on Earth: ')\n",
    "    # Get the numeric value since input() returns a value in string form\n",
    "    earth_weight = float(earth_weight_str)\n",
    "\n",
    "    # Having a variable for each piece of information is a good habit\n",
    "    mars_weight = earth_weight * MARS_MULTIPLE\n",
    "    rounded_mars_weight = round(mars_weight, 2)\n",
    "\n",
    "\n",
    "    # Note the string concatenation!\n",
    "    print('The equivalent weight on Mars: ' + str(rounded_mars_weight))\n",
    "\n",
    "if __name__ == \"__main__\":\n",
    "    main()"
   ]
  },
  {
   "cell_type": "code",
   "execution_count": 4,
   "metadata": {},
   "outputs": [
    {
     "name": "stdout",
     "output_type": "stream",
     "text": [
      "The equivalent weight on jupiter:  100.32\n"
     ]
    }
   ],
   "source": [
    "MERCURY_GRAVITY = 0.376 \n",
    "VENUS_GRAVITY = 0.889 \n",
    "MARS_GRAVITY = 0.378 \n",
    "JUPITER_GRAVITY = 2.36 \n",
    "SATURN_GRAVITY = 1.081 \n",
    "URANUS_GRAVITY = 0.815 \n",
    "NEPTUNE_GRAVITY = 1.14 \n",
    "EARTH_GRAVITY = 1.0\n",
    "def main(): # Prompt the user for their weight on Earth \n",
    "    earth_weight = float(input(\"Enter a weight on Earth: \"))\n",
    "    # Prompt the user for the name of a planet\n",
    "    planet = input(\"Enter a planet: \")\n",
    "\n",
    "    # Determine the gravitational constant for the selected planet\n",
    "    if planet == \"Mercury\":\n",
    "        gravity_constant = MERCURY_GRAVITY\n",
    "    elif planet == \"Venus\":\n",
    "        gravity_constant = VENUS_GRAVITY\n",
    "    elif planet == \"Mars\":\n",
    "        gravity_constant = MARS_GRAVITY\n",
    "    elif planet == \"Jupiter\":\n",
    "        gravity_constant = JUPITER_GRAVITY\n",
    "    elif planet == \"Saturn\":\n",
    "        gravity_constant = SATURN_GRAVITY\n",
    "    elif planet == \"Uranus\":\n",
    "        gravity_constant = URANUS_GRAVITY\n",
    "    else:\n",
    "    # can assume user types in one of these planets, so this can be an else instead of elif\n",
    "        gravity_constant = NEPTUNE_GRAVITY\n",
    "\n",
    "    # Calculate the equivalent weight on the selected planet\n",
    "    planetary_weight = earth_weight * gravity_constant\n",
    "    rounded_planetary_weight = round(planetary_weight, 2)\n",
    "\n",
    "    # Print the result\n",
    "    print(\"The equivalent weight on \" + planet + \":  \" + str(rounded_planetary_weight))\n",
    "if __name__ == \"__main__\":\n",
    "    main()\n"
   ]
  }
 ],
 "metadata": {
  "kernelspec": {
   "display_name": "Python 3",
   "language": "python",
   "name": "python3"
  },
  "language_info": {
   "codemirror_mode": {
    "name": "ipython",
    "version": 3
   },
   "file_extension": ".py",
   "mimetype": "text/x-python",
   "name": "python",
   "nbconvert_exporter": "python",
   "pygments_lexer": "ipython3",
   "version": "3.13.2"
  }
 },
 "nbformat": 4,
 "nbformat_minor": 2
}
