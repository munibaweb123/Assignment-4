{
 "cells": [
  {
   "cell_type": "markdown",
   "metadata": {},
   "source": [
    "## **Problem #1: List Practice**\n",
    "Now practice writing code with lists! Implement the functionality described in the comments below.\n",
    "\n",
    "def main(): # Create a list called fruit_list that contains the following fruits: # 'apple', 'banana', 'orange', 'grape', 'pineapple'."
   ]
  },
  {
   "cell_type": "code",
   "execution_count": null,
   "metadata": {},
   "outputs": [],
   "source": [
    "# Print the length of the list.\n",
    "\n",
    "\n",
    "# Add 'mango' at the end of the list. \n",
    "\n",
    "\n",
    "# Print the updated list."
   ]
  },
  {
   "cell_type": "markdown",
   "metadata": {},
   "source": [
    "## **Problem #2: Index Game**\n",
    "As a warmup, read this code and play the game a few times. Use this mental model of the list:\n",
    "\n",
    "### Objective:\n",
    "Create a Python program that helps you practice accessing and manipulating elements in a list. This exercise will help you get comfortable with indexing, slicing, and modifying list elements.\n",
    "\n",
    "### Instructions:\n",
    "Initialize a List:\n",
    "Create a list with at least 5 different elements. They can be numbers, strings, or a mix of both.\n",
    "\n",
    "### Accessing Elements:\n",
    "Write a function that:\n",
    "\n",
    "* Accepts a list and an index as inputs.\n",
    "* Returns the element at the specified index.\n",
    "* If the index is out of range, return an appropriate message.\n",
    "### Modifying Elements:\n",
    "Write a function that:\n",
    "\n",
    "* Accepts a list, an index, and a new value as inputs.\n",
    "* Replaces the element at the specified index with the new value.\n",
    "If the index is out of range, return an appropriate message.\n",
    "### Slicing the List:\n",
    "Write a function that:\n",
    "\n",
    "* Accepts a list, a start index, and an end index as inputs.\n",
    "* Returns a new list containing the elements from the start index up to (but not including) the end index.\n",
    "* Handles cases where the indices are out of range.\n",
    "### Game Interaction:\n",
    "Create a simple text-based game that:\n",
    "\n",
    "* Prompts the user to select an operation (access, modify, slice).\n",
    "* Asks for the necessary inputs (index, new value, etc.).\n",
    "* Displays the result and the updated list."
   ]
  },
  {
   "cell_type": "code",
   "execution_count": 1,
   "metadata": {},
   "outputs": [
    {
     "name": "stdout",
     "output_type": "stream",
     "text": [
      "Current list: [1, 2, 3, 4, 5]\n",
      "Choose an operation: access, modify, slice\n",
      "3\n"
     ]
    }
   ],
   "source": [
    "def access_element(lst, index):\n",
    "    try:\n",
    "        return lst[index]\n",
    "    except IndexError:\n",
    "        return \"Index out of range.\"\n",
    "\n",
    "def modify_element(lst, index, new_value):\n",
    "    try:\n",
    "        lst[index] = new_value\n",
    "        return lst\n",
    "    except IndexError:\n",
    "        return \"Index out of range.\"\n",
    "\n",
    "def slice_list(lst, start, end):\n",
    "    try:\n",
    "        return lst[start:end]\n",
    "    except IndexError:\n",
    "        return \"Invalid indices.\"\n",
    "\n",
    "def index_game():\n",
    "    lst = [1, 2, 3, 4, 5]  # Example list\n",
    "    print(\"Current list:\", lst)\n",
    "    print(\"Choose an operation: access, modify, slice\")\n",
    "    operation = input(\"Enter operation: \")\n",
    "\n",
    "    if operation == \"access\":\n",
    "        index = int(input(\"Enter index to access: \"))\n",
    "        print(access_element(lst, index))\n",
    "    elif operation == \"modify\":\n",
    "        index = int(input(\"Enter index to modify: \"))\n",
    "        new_value = input(\"Enter new value: \")\n",
    "        print(modify_element(lst, index, new_value))\n",
    "    elif operation == \"slice\":\n",
    "        start = int(input(\"Enter start index: \"))\n",
    "        end = int(input(\"Enter end index: \"))\n",
    "        print(slice_list(lst, start, end))\n",
    "    else:\n",
    "        print(\"Invalid operation.\")\n",
    "\n",
    "index_game()\n"
   ]
  },
  {
   "cell_type": "markdown",
   "metadata": {},
   "source": [
    "# List Practice Solution"
   ]
  },
  {
   "cell_type": "code",
   "execution_count": 3,
   "metadata": {},
   "outputs": [
    {
     "name": "stdout",
     "output_type": "stream",
     "text": [
      "5\n",
      "apple\n",
      "banana\n",
      "orange\n",
      "grape\n",
      "pineapple\n",
      "mango\n"
     ]
    }
   ],
   "source": [
    "def main(): # Create a list called fruit_list that contains the following fruits: 'apple', 'banana', 'orange', 'grape', 'pineapple'. \n",
    "    fruit_lst = ['apple', 'banana', 'orange', 'grape', 'pineapple']\n",
    "    # Print the length of the list.\n",
    "    lst_length = len(fruit_lst)\n",
    "    print(lst_length)\n",
    "\n",
    "    # Add 'mango' at the end of the list. \n",
    "    fruit_lst.append('mango')\n",
    "\n",
    "    # Print the updated list.\n",
    "    for fruit in fruit_lst:\n",
    "        print(fruit)\n",
    "if __name__ == '__main__': \n",
    "    main()"
   ]
  }
 ],
 "metadata": {
  "kernelspec": {
   "display_name": "Python 3",
   "language": "python",
   "name": "python3"
  },
  "language_info": {
   "codemirror_mode": {
    "name": "ipython",
    "version": 3
   },
   "file_extension": ".py",
   "mimetype": "text/x-python",
   "name": "python",
   "nbconvert_exporter": "python",
   "pygments_lexer": "ipython3",
   "version": "3.13.2"
  }
 },
 "nbformat": 4,
 "nbformat_minor": 2
}
