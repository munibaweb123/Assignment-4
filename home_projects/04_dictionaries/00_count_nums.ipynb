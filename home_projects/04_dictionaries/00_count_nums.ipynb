{
 "cells": [
  {
   "cell_type": "markdown",
   "metadata": {},
   "source": [
    "# **Problem Statement**\n",
    "This program counts the number of times each number appears in a list. It uses a dictionary to keep track of the information.\n",
    "\n",
    "An example run of the program looks like this (user input is in blue):\n",
    "\n",
    "Enter a number: 3 Enter a number: 4 Enter a number: 3 Enter a number: 6 Enter a number: 4 Enter a number: 3 Enter a number: 12 Enter a number: 3 appears 3 times. 4 appears 2 times. 6 appears 1 times. 12 appears 1 times."
   ]
  },
  {
   "cell_type": "code",
   "execution_count": 2,
   "metadata": {},
   "outputs": [
    {
     "name": "stdout",
     "output_type": "stream",
     "text": [
      "1 appears 1 times\n",
      "2 appears 2 times\n",
      "3 appears 2 times\n",
      "4 appears 1 times\n",
      "5 appears 1 times\n",
      "7 appears 2 times\n"
     ]
    }
   ],
   "source": [
    "def get_user_numbers():\n",
    "    \"\"\"\n",
    "    Create an empty list,\n",
    "    Ask the user input numbers and store them in a list.\n",
    "    Once they enter a blank line, break out of the loop and return the list.\n",
    "    \"\"\"\n",
    "    user_numbers = []\n",
    "    while True:\n",
    "        user_input = input('Enter number:')\n",
    "        if user_input == \"\":\n",
    "            break\n",
    "        num = int(user_input)\n",
    "        user_numbers.append(num)\n",
    "    return user_numbers\n",
    "\n",
    "def count_nums(num_list):\n",
    "    \"\"\"\n",
    "    Create an empty dictionary.\n",
    "    Loop over the list of numbers. \n",
    "    If the number is not in the dictionary, add it as a key with a value of 1.\n",
    "    If the number is in the dictionary, increment its value by 1.\n",
    "    \"\"\"\n",
    "    num_dict = {}\n",
    "    for num in num_list:\n",
    "        if num not in num_dict:\n",
    "            num_dict[num]=1\n",
    "        else:\n",
    "            num_dict[num]+=1\n",
    "    return num_dict\n",
    "\n",
    "def print_counts(num_dict):\n",
    "    for num in num_dict:\n",
    "        print(f\"{num} appears {num_dict[num]} times\")\n",
    "def main():\n",
    "    \"\"\"\n",
    "    Ask the user to input numbers and store them in a list. Once they enter a blank line,\n",
    "    print out the number of times each number appeared in the list.\n",
    "    \"\"\"\n",
    "    user_numbers = get_user_numbers()\n",
    "    num_dict = count_nums(user_numbers)\n",
    "    print_counts(num_dict)\n",
    "\n",
    "\n",
    "# Python boilerplate.\n",
    "if __name__ == '__main__':\n",
    "    main()"
   ]
  }
 ],
 "metadata": {
  "kernelspec": {
   "display_name": "Python 3",
   "language": "python",
   "name": "python3"
  },
  "language_info": {
   "codemirror_mode": {
    "name": "ipython",
    "version": 3
   },
   "file_extension": ".py",
   "mimetype": "text/x-python",
   "name": "python",
   "nbconvert_exporter": "python",
   "pygments_lexer": "ipython3",
   "version": "3.13.2"
  }
 },
 "nbformat": 4,
 "nbformat_minor": 2
}
