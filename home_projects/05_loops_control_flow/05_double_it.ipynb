{
 "cells": [
  {
   "cell_type": "markdown",
   "metadata": {},
   "source": [
    "# **Problem Statement**\n",
    "Write a program that asks a user to enter a number. Your program will then double that number and print out the result. It will repeat that process until the value is 100 or greater.\n",
    "\n",
    "For example if the user enters the number 2 you would then print:\n",
    "\n",
    "4 8 16 32 64 128\n",
    "\n",
    "Note that:\n",
    "\n",
    "2 doubled is 4\n",
    "\n",
    "4 doubled is 8\n",
    "\n",
    "8 doubled is 16\n",
    "\n",
    "and so on.\n",
    "\n",
    "We stop at 128 because that value is greater than 100.\n",
    "\n",
    "Maintain the current number in a variable named curr_value. When you double the number, you should be updating curr_value. Recall that you can double the value of curr_value using a line like:\n",
    "\n",
    "curr_value = curr_value * 2\n",
    "\n",
    "This program should have a while loop and the while loop condition should test if curr_value is less than 100. Thus, your program will have the line:\n",
    "\n",
    "while curr_value < 100:"
   ]
  },
  {
   "cell_type": "code",
   "execution_count": 3,
   "metadata": {},
   "outputs": [
    {
     "name": "stdout",
     "output_type": "stream",
     "text": [
      "2\n",
      "4\n",
      "8\n",
      "16\n",
      "32\n",
      "64\n"
     ]
    }
   ],
   "source": [
    "def main():\n",
    "    user_input = int(input('Enter a number'))\n",
    "    curr_value = user_input\n",
    "    while curr_value < 100:\n",
    "        print(curr_value)\n",
    "        curr_value *= 2\n",
    "\n",
    "# This provided line is required at the end of\n",
    "# Python file to call the main() function.\n",
    "if __name__ == '__main__':\n",
    "    main()"
   ]
  }
 ],
 "metadata": {
  "kernelspec": {
   "display_name": "Python 3",
   "language": "python",
   "name": "python3"
  },
  "language_info": {
   "codemirror_mode": {
    "name": "ipython",
    "version": 3
   },
   "file_extension": ".py",
   "mimetype": "text/x-python",
   "name": "python",
   "nbconvert_exporter": "python",
   "pygments_lexer": "ipython3",
   "version": "3.13.2"
  }
 },
 "nbformat": 4,
 "nbformat_minor": 2
}
