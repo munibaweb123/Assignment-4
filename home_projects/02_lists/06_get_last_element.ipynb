{
 "cells": [
  {
   "cell_type": "markdown",
   "metadata": {},
   "source": [
    "# **Problem Statement**\n",
    "Fill out the function get_last_element(lst) which takes in a list lst as a parameter and prints the last element in the list. The list is guaranteed to be non-empty, but there are no guarantees on its length."
   ]
  },
  {
   "cell_type": "code",
   "execution_count": 1,
   "metadata": {},
   "outputs": [
    {
     "name": "stdout",
     "output_type": "stream",
     "text": [
      "grapes\n"
     ]
    }
   ],
   "source": [
    "def get_last_elem(lst):\n",
    "    print(lst[-1])\n",
    "def get_lst():\n",
    "    \"\"\"\n",
    "    Prompts the user to enter one element of the list at a time and returns the resulting list.\n",
    "    \"\"\"\n",
    "    lst = []\n",
    "    elem: str = input(\"Please enter an element of the list or press enter to stop. \")\n",
    "    while elem != \"\":\n",
    "        lst.append(elem)\n",
    "        elem = input(\"Please enter an element of the list or press enter to stop. \")\n",
    "    return lst\n",
    "\n",
    "def main():\n",
    "    lst = get_lst()\n",
    "    get_last_elem(lst)\n",
    "\n",
    "\n",
    "if __name__ == '__main__':\n",
    "    main()"
   ]
  }
 ],
 "metadata": {
  "kernelspec": {
   "display_name": "Python 3",
   "language": "python",
   "name": "python3"
  },
  "language_info": {
   "codemirror_mode": {
    "name": "ipython",
    "version": 3
   },
   "file_extension": ".py",
   "mimetype": "text/x-python",
   "name": "python",
   "nbconvert_exporter": "python",
   "pygments_lexer": "ipython3",
   "version": "3.13.2"
  }
 },
 "nbformat": 4,
 "nbformat_minor": 2
}
