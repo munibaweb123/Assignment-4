{
 "cells": [
  {
   "cell_type": "markdown",
   "metadata": {},
   "source": [
    "# **Problem Statement**\n",
    "Write a program which prompts the user for a temperature in Fahrenheit (this can be a number with decimal places!) and outputs the temperature converted to Celsius.\n",
    "\n",
    "The Celsius scale is widely used to measure temperature, but places still use Fahrenheit. Fahrenheit is another unit for temperature, but the scale is different from Celsius -- for example, 0 degrees Celsius is 32 degrees Fahrenheit!\n",
    "\n",
    "The equation you should use for converting from Fahrenheit to Celsius is the following:\n",
    "\n",
    "degrees_celsius = (degrees_fahrenheit - 32) * 5.0/9.0\n",
    "\n",
    "(Note. The .0 after the 5 and 9 matters in the line above!!!)\n",
    "\n",
    "Here's a sample run of the program (user input is in bold italics):\n",
    "\n",
    "Enter temperature in Fahrenheit: 76\n",
    "\n",
    "Temperature: 76.0F = 24.444444444444443C"
   ]
  },
  {
   "cell_type": "code",
   "execution_count": 5,
   "metadata": {},
   "outputs": [
    {
     "data": {
      "text/html": [
       "<pre style=\"white-space:pre;overflow-x:auto;line-height:normal;font-family:Menlo,'DejaVu Sans Mono',consolas,'Courier New',monospace\">Temperature: <span style=\"color: #008080; text-decoration-color: #008080; font-weight: bold; font-style: italic\">78.</span><span style=\"font-weight: bold; font-style: italic\">9F</span> = <span style=\"color: #008080; text-decoration-color: #008080; font-weight: bold\">26.</span>055555555555557C\n",
       "</pre>\n"
      ],
      "text/plain": [
       "Temperature: \u001b[1;3;36m78.\u001b[0m\u001b[1;3m9F\u001b[0m = \u001b[1;36m26.\u001b[0m055555555555557C\n"
      ]
     },
     "metadata": {},
     "output_type": "display_data"
    }
   ],
   "source": [
    "from rich import print\n",
    "def main():\n",
    "    degrees_fahrenheit = float(input('Enter temperature in Fahrenheit:'))\n",
    "    degrees_celsius = ((degrees_fahrenheit - 32) * 5.0)/9.0\n",
    "    print(f'Temperature: [bold italic]{degrees_fahrenheit}F[/bold italic] = {degrees_celsius}C')\n",
    "\n",
    "\n",
    "# This provided line is required at the end of\n",
    "# Python file to call the main() function.\n",
    "if __name__ == '__main__':\n",
    "    main()"
   ]
  }
 ],
 "metadata": {
  "kernelspec": {
   "display_name": "Python 3",
   "language": "python",
   "name": "python3"
  },
  "language_info": {
   "codemirror_mode": {
    "name": "ipython",
    "version": 3
   },
   "file_extension": ".py",
   "mimetype": "text/x-python",
   "name": "python",
   "nbconvert_exporter": "python",
   "pygments_lexer": "ipython3",
   "version": "3.13.2"
  }
 },
 "nbformat": 4,
 "nbformat_minor": 2
}
