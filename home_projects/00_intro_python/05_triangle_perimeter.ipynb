{
 "cells": [
  {
   "cell_type": "markdown",
   "metadata": {},
   "source": [
    "# **Problem Statement**\n",
    "Prompt the user to enter the lengths of each side of a triangle and then calculate and print the perimeter of the triangle (the sum of all of the side lengths).\n",
    "\n",
    "Here's a sample run of the program (user input is in bold italics):\n",
    "\n",
    "What is the length of side 1? 3\n",
    "\n",
    "What is the length of side 2? 4\n",
    "\n",
    "What is the length of side 3? 5.5\n",
    "\n",
    "The perimeter of the triangle is 12.5"
   ]
  },
  {
   "cell_type": "code",
   "execution_count": 1,
   "metadata": {},
   "outputs": [
    {
     "name": "stdout",
     "output_type": "stream",
     "text": [
      "The perimeter of the triangle is 73.0\n"
     ]
    }
   ],
   "source": [
    "def main():\n",
    "    # Get the 3 side lengths of the triangle\n",
    "    side1: float = float(input(\"What is the length of side 1? \"))\n",
    "    side2: float = float(input(\"What is the length of side 2? \"))\n",
    "    side3: float = float(input(\"What is the length of side 3? \"))\n",
    "\n",
    "    # Print out the perimeter (sum of the sides) of the triangle, make sure to cast it to a str when concatenating!\n",
    "    print(\"The perimeter of the triangle is \" + str(side1 + side2 + side3))\n",
    "\n",
    "\n",
    "# There is no need to edit code beyond this point\n",
    "\n",
    "if __name__ == '__main__':\n",
    "    main()"
   ]
  }
 ],
 "metadata": {
  "kernelspec": {
   "display_name": "Python 3",
   "language": "python",
   "name": "python3"
  },
  "language_info": {
   "codemirror_mode": {
    "name": "ipython",
    "version": 3
   },
   "file_extension": ".py",
   "mimetype": "text/x-python",
   "name": "python",
   "nbconvert_exporter": "python",
   "pygments_lexer": "ipython3",
   "version": "3.13.2"
  }
 },
 "nbformat": 4,
 "nbformat_minor": 2
}
