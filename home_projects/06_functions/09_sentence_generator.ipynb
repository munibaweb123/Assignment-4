{
 "cells": [
  {
   "cell_type": "markdown",
   "metadata": {},
   "source": [
    "# **Problem Statement**\n",
    "Implement the helper function make_sentence(word, part_of_speech) which will take a string word and an integer part_of_speech as parameters and, depending on the part of speech, place the word into one of three sentence templates (or one from your imagination!):\n",
    "\n",
    "If part_of_speech is 0, we will assume the word is a noun and use the template: \"I am excited to add this ____ to my vast collection of them!\"\n",
    "\n",
    "If part_of_speech is 1, we will assume the word is a verb use the template: \"It's so nice outside today it makes me want to ____!\"\n",
    "\n",
    "If part_of_speech is 2, we will assume the word is an adjective and use the template: \"Looking out my window, the sky is big and ____!\" make_sentence(word, part_of_speech) should not return anything, just print the correct sentence with the word filled in the blank.\n",
    "\n",
    "Here's a sample run of the program (user input is in blue):\n",
    "\n",
    "Please type a noun, verb, or adjective: groovy Is this a noun, verb, or adjective? Type 0 for noun, 1 for verb, 2 for adjective: 2 Looking out my window, the sky is big and groovy!"
   ]
  },
  {
   "cell_type": "code",
   "execution_count": 5,
   "metadata": {},
   "outputs": [
    {
     "name": "stdout",
     "output_type": "stream",
     "text": [
      "Is this a noun, verb, or adjective?\n",
      "It's so nice outside today it makes me want to play!\n"
     ]
    }
   ],
   "source": [
    "def make_sentence(word, part_of_speech):\n",
    "    if part_of_speech == 0:\n",
    "        # noun\n",
    "        print(\"I am excited to add this \" + word + \" to my vast collection of them!\")\n",
    "    elif part_of_speech == 1:\n",
    "        # verb\n",
    "        print(\"It's so nice outside today it makes me want to \" + word + \"!\")\n",
    "    elif part_of_speech == 2:\n",
    "        # adjective\n",
    "        print(\"Looking out my window, the sky is big and \" + word + \"!\")\n",
    "    else:\n",
    "        # part_of_speech is invalid (not 0, 1, or 2)\n",
    "        print(\"Part of speech must be 0, 1, or 2! Can't make a sentence.\")\n",
    "\n",
    "# There is no need to edit code beyond this point\n",
    "\n",
    "def main():\n",
    "    word :  str = input(\"Please type a noun, verb, or adjective: \")\n",
    "    print(\"Is this a noun, verb, or adjective?\")\n",
    "    part_of_speech = int(input(\"Type 0 for noun, 1 for verb, 2 for adjective: \"))\n",
    "    make_sentence(word, part_of_speech)\n",
    "\n",
    "if __name__ == '__main__':\n",
    "    main()\n"
   ]
  }
 ],
 "metadata": {
  "kernelspec": {
   "display_name": "Python 3",
   "language": "python",
   "name": "python3"
  },
  "language_info": {
   "codemirror_mode": {
    "name": "ipython",
    "version": 3
   },
   "file_extension": ".py",
   "mimetype": "text/x-python",
   "name": "python",
   "nbconvert_exporter": "python",
   "pygments_lexer": "ipython3",
   "version": "3.13.2"
  }
 },
 "nbformat": 4,
 "nbformat_minor": 2
}
