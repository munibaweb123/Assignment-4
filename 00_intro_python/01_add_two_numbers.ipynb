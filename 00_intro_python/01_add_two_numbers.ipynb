{
 "cells": [
  {
   "cell_type": "markdown",
   "metadata": {},
   "source": [
    "# **Problem Statement**\n",
    "Write a Python program that takes two integer inputs from the user and calculates their sum. The program should perform the following tasks:\n",
    "\n",
    "* Prompt the user to enter the first number.\n",
    "\n",
    "* Read the input and convert it to an integer.\n",
    "\n",
    "* Prompt the user to enter the second number.\n",
    "\n",
    "* Read the input and convert it to an integer.\n",
    "\n",
    "* Calculate the sum of the two numbers.\n",
    "\n",
    "* Print the total sum with an appropriate message.\n",
    "\n",
    "The provided solution demonstrates a working implementation of this problem, where the main() function guides the user through the process of entering two numbers and displays their sum."
   ]
  },
  {
   "cell_type": "code",
   "execution_count": 2,
   "metadata": {},
   "outputs": [
    {
     "name": "stdout",
     "output_type": "stream",
     "text": [
      "This program adds two numbers.\n",
      "The total is 143.\n"
     ]
    }
   ],
   "source": [
    "\"\"\"\n",
    "Program: add2numbers\n",
    "--------------------\n",
    "Another python program to get some practice with\n",
    "variables.  This program asks the user for two\n",
    "integers and prints their sum.\n",
    "\"\"\"\n",
    "\n",
    "\n",
    "def main():\n",
    "    print(\"This program adds two numbers.\")\n",
    "    number1 : str = input(\"Enter first number: \")\n",
    "    number1 : int = int(number1)\n",
    "    number2  : str = input(\"Enter second number: \")\n",
    "    number2 : int = int(number2)\n",
    "    total : int = number1 + number2\n",
    "    print(\"The total is \" + str(total) + \".\")\n",
    "\n",
    "\n",
    "# This provided line is required at the end of\n",
    "# Python file to call the main() function.\n",
    "if __name__ == '__main__':\n",
    "    main()"
   ]
  }
 ],
 "metadata": {
  "kernelspec": {
   "display_name": "Python 3",
   "language": "python",
   "name": "python3"
  },
  "language_info": {
   "codemirror_mode": {
    "name": "ipython",
    "version": 3
   },
   "file_extension": ".py",
   "mimetype": "text/x-python",
   "name": "python",
   "nbconvert_exporter": "python",
   "pygments_lexer": "ipython3",
   "version": "3.13.2"
  }
 },
 "nbformat": 4,
 "nbformat_minor": 2
}
